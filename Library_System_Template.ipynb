{
  "cells": [
    {
      "cell_type": "markdown",
      "metadata": {
        "id": "iPAx97TLQcwA"
      },
      "source": [
        "![image.png](attachment:image.png)"
      ]
    },
    {
      "cell_type": "markdown",
      "metadata": {
        "id": "_cCqBAMVQcwD"
      },
      "source": [
        "> ### Harry works in the library, Harry is tired of writing data in paper records so Harry decides to go digital.\n",
        "> ### Harry wants a program to do all the operations in the library.\n",
        "> ### Let's help Harry!"
      ]
    },
    {
      "cell_type": "markdown",
      "metadata": {
        "id": "1Ta17mZwQcwD"
      },
      "source": [
        "# Task 1 :\n",
        "- #### task 1.1 Make Class(Library) with attributes:\n",
        "    - booksList  \n",
        "    - name of lirary  \n",
        "    - lended books (name of user, book)\n",
        "- #### task 1.2 Make method to display available Books.\n",
        "- #### task 1.3 Make method for books lending.\n",
        "    - Don't forget to check if book isn't already lended\n",
        "- #### task 1.4 Make method to add Book to library.\n",
        "- #### task 1.5 Make method to return borrowed book."
      ]
    },
    {
      "cell_type": "code",
      "execution_count": 19,
      "metadata": {
        "id": "uewEXyldQcwE"
      },
      "outputs": [],
      "source": [
        "class Library:\n",
        "  def __init__(self, bl, n):\n",
        "    self.BookList = bl\n",
        "    self.NameOfLibrary = n\n",
        "    self.LendedBooks = {}\n",
        "    print('New library have been added')\n",
        "\n",
        "  def AvailableBooks(self):\n",
        "    books = []\n",
        "    for book in self.BookList:\n",
        "      if book not in self.LendedBooks.values():\n",
        "        books.append(book)\n",
        "    return books\n",
        "\n",
        "  def LendingBook(self, Name, Book):\n",
        "    books = self.AvailableBooks()\n",
        "    if Book in books:\n",
        "      if Name in self.LendedBooks.keys():\n",
        "        print('You already have a book')\n",
        "      else:\n",
        "        self.LendedBooks[Name] = Book\n",
        "        print('thank you for lending')\n",
        "    else:\n",
        "      print('This book is already lended')\n",
        "\n",
        "  def AddBook(self, NewBook):\n",
        "    self.BookList.append(NewBook)\n",
        "    print('The book has been added successfully')\n",
        "\n",
        "  def ReturnBook(self, UserName, BookName):\n",
        "    if UserName in self.LendedBooks.keys():\n",
        "      if self.LendedBooks[UserName] == BookName:\n",
        "        del self.LendedBooks[UserName]\n",
        "        print('The book has been returned successfully')\n",
        "      else:\n",
        "        print('Wrong book!\\nYou lended:',self.LendedBooks[UserName],'Not',BookName)\n",
        "    else:\n",
        "      print('You did not borrow any book from here')"
      ]
    },
    {
      "cell_type": "markdown",
      "metadata": {
        "id": "te44XZQBQcwE"
      },
      "source": [
        "# Task 2 :\n",
        "- #### task 2.1 Make object(Harry) with attributes:\n",
        "    - booksList  = ['Python', 'Rich Daddy Poor Daddy', 'Harry Potter', 'C++ Basics', 'Algorithms by CLRS']\n",
        "    - name of lirary  = \"CodeWithHarry\"\n",
        "- #### task 2.2 Make program run with this choices. __(Don't forget the welcome message)__\n",
        "    - 1. Display Books\n",
        "    - 2. Lend a Book\n",
        "    - 3. Add a Book\n",
        "    - 4. Return a Book\n",
        "- #### task 2.3 Make prgram ends or continue."
      ]
    },
    {
      "cell_type": "code",
      "execution_count": 20,
      "metadata": {
        "colab": {
          "base_uri": "https://localhost:8080/"
        },
        "id": "WZqeV3sZQcwE",
        "outputId": "70117775-b197-44ab-82a2-4e465ab43e10"
      },
      "outputs": [
        {
          "output_type": "stream",
          "name": "stdout",
          "text": [
            "New library have been added\n",
            "[1]Available books\n",
            "[2]Lend a book\n",
            "[3]Add book\n",
            "[4]Return a book\n",
            "[5]Exit program\n",
            "Please enter your choice:5\n",
            "Thank you for using our library system\n"
          ]
        }
      ],
      "source": [
        "Harry = Library(bl=['Python', 'Rich Daddy Poor Daddy', 'Harry Potter', 'C++ Basics', 'Algorithms by CLRS'], n='CodeWithHarry')\n",
        "\n",
        "while True:\n",
        "    print('[1]Available books')\n",
        "    print('[2]Lend a book')\n",
        "    print('[3]Add book')\n",
        "    print('[4]Return a book')\n",
        "    print('[5]Exit program')\n",
        "    choice = int(input('Please enter your choice:'))\n",
        "\n",
        "    if choice == 1:\n",
        "        print('Available books:', Harry.AvailableBooks())\n",
        "    elif choice == 2:\n",
        "        name = input('Please enter your name:')\n",
        "        book = input('Please enter the book name:')\n",
        "        Harry.LendingBook(Name=name, Book=book)\n",
        "    elif choice == 3:\n",
        "        book = input('Please enter the name of the book:')\n",
        "        Harry.AddBook(NewBook=book)\n",
        "    elif choice == 4:\n",
        "        name = input('Please enter your name:')\n",
        "        book = input('Please enter the book name:')\n",
        "        Harry.ReturnBook(UserName=name, BookName=book)\n",
        "    elif choice == 5:\n",
        "        print('Thank you for using our library system')\n",
        "        break\n",
        "    else:\n",
        "        print('Wrong choice, please try again')\n"
      ]
    },
    {
      "cell_type": "code",
      "source": [],
      "metadata": {
        "id": "G6uaVKUab1-p"
      },
      "execution_count": null,
      "outputs": []
    }
  ],
  "metadata": {
    "kernelspec": {
      "display_name": "Python 3",
      "language": "python",
      "name": "python3"
    },
    "language_info": {
      "codemirror_mode": {
        "name": "ipython",
        "version": 3
      },
      "file_extension": ".py",
      "mimetype": "text/x-python",
      "name": "python",
      "nbconvert_exporter": "python",
      "pygments_lexer": "ipython3",
      "version": "3.8.8"
    },
    "colab": {
      "provenance": []
    }
  },
  "nbformat": 4,
  "nbformat_minor": 0
}